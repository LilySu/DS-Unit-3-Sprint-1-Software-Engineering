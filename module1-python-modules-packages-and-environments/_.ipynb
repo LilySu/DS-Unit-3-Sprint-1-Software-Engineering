{
 "cells": [
  {
   "cell_type": "code",
   "execution_count": 2,
   "metadata": {},
   "outputs": [
    {
     "data": {
      "text/plain": [
       "[29, 28, 29, 29, 27, 28]"
      ]
     },
     "execution_count": 2,
     "metadata": {},
     "output_type": "execute_result"
    }
   ],
   "source": [
    "years_of_birth = [1990, 1991, 1990, 1990, 1992, 1991]\n",
    "ages = [2019 - year for year in years_of_birth]\n",
    "ages\n"
   ]
  },
  {
   "cell_type": "code",
   "execution_count": 7,
   "metadata": {},
   "outputs": [],
   "source": [
    "years_of_birth = [1990, 1991, 1990, 1990, 1992, 1996]\n",
    "def firstlast(x):\n",
    "    return [x[0], x[len(x)-1]]"
   ]
  },
  {
   "cell_type": "code",
   "execution_count": 8,
   "metadata": {},
   "outputs": [
    {
     "data": {
      "text/plain": [
       "[1990, 1996]"
      ]
     },
     "execution_count": 8,
     "metadata": {},
     "output_type": "execute_result"
    }
   ],
   "source": [
    "firstlast(years_of_birth)"
   ]
  },
  {
   "cell_type": "code",
   "execution_count": 10,
   "metadata": {},
   "outputs": [
    {
     "data": {
      "text/plain": [
       "5"
      ]
     },
     "execution_count": 10,
     "metadata": {},
     "output_type": "execute_result"
    }
   ],
   "source": [
    "import random\n",
    "a = random.randint(2,6)\n",
    "a"
   ]
  },
  {
   "cell_type": "code",
   "execution_count": 28,
   "metadata": {},
   "outputs": [],
   "source": [
    "l = \"abcdefghijklmnopqrstuvwxyzABCDEFGHIJKLMNOPQRSTUVWXYZ\"\n",
    "n = \"1234567890\"\n",
    "s = \"!@#$%^&*()?\"\n",
    "totallength = random.randint(8,14)\n",
    "letterlength = totallength-6\n",
    "numberlength = random.randint(1,(totallength-letterlength))\n",
    "symbollength = totallength-letterlength-numberlength\n",
    "letters = \"\".join(random.sample(l, passwordlength))\n",
    "numbers = \"\".join(random.sample(n, passwordlength))\n",
    "symbols = \"\".join(random.sample(s, passwordlength))\n",
    "password = letters + numbers + symbols\n"
   ]
  },
  {
   "cell_type": "code",
   "execution_count": 33,
   "metadata": {},
   "outputs": [
    {
     "data": {
      "text/plain": [
       "'hFI564@%#'"
      ]
     },
     "execution_count": 33,
     "metadata": {},
     "output_type": "execute_result"
    }
   ],
   "source": [
    "password"
   ]
  },
  {
   "cell_type": "code",
   "execution_count": 7,
   "metadata": {},
   "outputs": [],
   "source": [
    "a = [1, 1, 2, 3, 5, 8, 13, 21, 34, 55, 89]\n",
    "b = [1, 2, 3, 4, 5, 6, 7, 8, 9, 10, 11, 12, 13]\n",
    "\n",
    "result = [i for i in a if i in b]\n",
    "            "
   ]
  },
  {
   "cell_type": "code",
   "execution_count": 8,
   "metadata": {},
   "outputs": [
    {
     "name": "stdout",
     "output_type": "stream",
     "text": [
      "[1, 1, 2, 3, 5, 8, 13]\n"
     ]
    }
   ],
   "source": [
    "print(result)"
   ]
  },
  {
   "cell_type": "code",
   "execution_count": 9,
   "metadata": {},
   "outputs": [
    {
     "name": "stdout",
     "output_type": "stream",
     "text": [
      "[20, 29, 14, 10, 27, 16, 3, 13, 1, 12, 4, 24]\n"
     ]
    }
   ],
   "source": [
    "import random\n",
    "a = random.sample(range(1,30), 12)\n",
    "print(a)"
   ]
  },
  {
   "cell_type": "code",
   "execution_count": 15,
   "metadata": {},
   "outputs": [
    {
     "data": {
      "text/plain": [
       "[1, 2, 3]"
      ]
     },
     "execution_count": 15,
     "metadata": {},
     "output_type": "execute_result"
    }
   ],
   "source": [
    "import random\n",
    "random.sample(range(1,7),3)"
   ]
  },
  {
   "cell_type": "code",
   "execution_count": null,
   "metadata": {},
   "outputs": [
    {
     "name": "stdout",
     "output_type": "stream",
     "text": [
      "Welcome to Hangman!\n",
      "_ _ _ _\n",
      "Guess your letter:\n"
     ]
    }
   ],
   "source": [
    "def hangman():\n",
    "    print('Welcome to Hangman!\\n_ _ _ _')\n",
    "    print('Guess your letter:')\n",
    "    input()\n",
    "    \n",
    "print(hangman())"
   ]
  },
  {
   "cell_type": "code",
   "execution_count": null,
   "metadata": {},
   "outputs": [],
   "source": [
    "#! /usr/bin/python3\n",
    "\n",
    "if __name__ == '__main__':\n",
    "\tprint(\"Welcome to hangman!!\")\n",
    "\tword = \"EVAPORATE\"\n",
    "\tguessed = \"_\" * len(word)\n",
    "\tword = list(word)\n",
    "\tguessed = list(guessed)\n",
    "\tlstGuessed = []\n",
    "\tletter = input(\"guess letter: \")\n",
    "\twhile True:\n",
    "\t\tif letter.upper() in lstGuessed:\n",
    "\t\t\tletter = ''\n",
    "\t\t\tprint(\"Already guessed!!\")\n",
    "\t\telif letter.upper() in word:\n",
    "\t\t\tindex = word.index(letter.upper())\n",
    "\t\t\tguessed[index] = letter.upper()\n",
    "\t\t\tword[index] = '_'\n",
    "\t\telse:\n",
    "\t\t\tprint(''.join(guessed))\n",
    "\t\t\tif letter is not '':\n",
    "\t\t\t\tlstGuessed.append(letter.upper())\n",
    "\t\t\tletter = input(\"guess letter: \")\n",
    "\n",
    "\t\tif '_' not in guessed:\n",
    "\t\t\tprint(\"You won!!\")\n",
    "\t\t\tbreak"
   ]
  },
  {
   "cell_type": "code",
   "execution_count": null,
   "metadata": {},
   "outputs": [],
   "source": [
    "print(\"before import\")\n",
    "import math\n",
    "\n",
    "print(\"before functionA\")\n",
    "def functionA():\n",
    "    print(\"Function A\")\n",
    "\n",
    "print(\"before functionB\")\n",
    "def functionB():\n",
    "    print(\"Function B {}\".format(math.sqrt(100)))\n",
    "\n",
    "print(\"before __name__ guard\")\n",
    "if __name__ == '__main__':\n",
    "    functionA()\n",
    "    functionB()\n",
    "print(\"after __name__ guard\")"
   ]
  },
  {
   "cell_type": "code",
   "execution_count": 32,
   "metadata": {},
   "outputs": [
    {
     "ename": "TypeError",
     "evalue": "argument of type 'int' is not iterable",
     "output_type": "error",
     "traceback": [
      "\u001b[1;31m---------------------------------------------------------------------------\u001b[0m",
      "\u001b[1;31mTypeError\u001b[0m                                 Traceback (most recent call last)",
      "\u001b[1;32m<ipython-input-32-50ce710fa9df>\u001b[0m in \u001b[0;36m<module>\u001b[1;34m\u001b[0m\n\u001b[0;32m     20\u001b[0m \u001b[1;31m# example_n =236363\u001b[0m\u001b[1;33m\u001b[0m\u001b[1;33m\u001b[0m\u001b[1;33m\u001b[0m\u001b[0m\n\u001b[0;32m     21\u001b[0m \u001b[1;33m\u001b[0m\u001b[0m\n\u001b[1;32m---> 22\u001b[1;33m \u001b[0mfirst_frisbee\u001b[0m\u001b[1;33m(\u001b[0m\u001b[0mn\u001b[0m\u001b[1;33m)\u001b[0m\u001b[1;33m\u001b[0m\u001b[1;33m\u001b[0m\u001b[0m\n\u001b[0m",
      "\u001b[1;32m<ipython-input-32-50ce710fa9df>\u001b[0m in \u001b[0;36mfirst_frisbee\u001b[1;34m(n)\u001b[0m\n\u001b[0;32m      8\u001b[0m             \u001b[1;32mfor\u001b[0m \u001b[0mi\u001b[0m \u001b[1;32min\u001b[0m \u001b[0mrange\u001b[0m\u001b[1;33m(\u001b[0m\u001b[0mlen\u001b[0m\u001b[1;33m(\u001b[0m\u001b[0meven\u001b[0m\u001b[1;33m)\u001b[0m\u001b[1;33m)\u001b[0m\u001b[1;33m:\u001b[0m\u001b[1;31m#for each index in the even list\u001b[0m\u001b[1;33m\u001b[0m\u001b[1;33m\u001b[0m\u001b[0m\n\u001b[0;32m      9\u001b[0m                 \u001b[0mfindrepeat\u001b[0m \u001b[1;33m=\u001b[0m \u001b[0meven\u001b[0m\u001b[1;33m.\u001b[0m\u001b[0mpop\u001b[0m\u001b[1;33m(\u001b[0m\u001b[0mi\u001b[0m\u001b[1;33m)\u001b[0m\u001b[1;31m#create new list of just even numbers except the current\u001b[0m\u001b[1;33m\u001b[0m\u001b[1;33m\u001b[0m\u001b[0m\n\u001b[1;32m---> 10\u001b[1;33m                 \u001b[1;32mif\u001b[0m \u001b[0mi\u001b[0m \u001b[1;32min\u001b[0m \u001b[0mfindrepeat\u001b[0m \u001b[1;33m==\u001b[0m \u001b[1;32mTrue\u001b[0m\u001b[1;33m:\u001b[0m\u001b[1;33m\u001b[0m\u001b[1;33m\u001b[0m\u001b[0m\n\u001b[0m\u001b[0;32m     11\u001b[0m                     \u001b[1;32mpass\u001b[0m\u001b[1;33m\u001b[0m\u001b[1;33m\u001b[0m\u001b[0m\n\u001b[0;32m     12\u001b[0m                 \u001b[1;32melse\u001b[0m\u001b[1;33m:\u001b[0m\u001b[1;33m\u001b[0m\u001b[1;33m\u001b[0m\u001b[0m\n",
      "\u001b[1;31mTypeError\u001b[0m: argument of type 'int' is not iterable"
     ]
    }
   ],
   "source": [
    "def first_frisbee(n):\n",
    "    Calvin = []\n",
    "    Hobbes = []\n",
    "    for i in n:#for each item in list n\n",
    "        if i % 2 == 0:#if this item is even:\n",
    "            even = []\n",
    "            even.append(i)#assign it to the even list\n",
    "            for i in range(len(even)):#for each index in the even list\n",
    "                findrepeat = even.pop(i)#create new list of just even numbers except the current\n",
    "                if i in findrepeat == True:\n",
    "                    pass\n",
    "                else: \n",
    "                    Hobbes.append(even[i])#insert the number in even list to Hobbes\n",
    "#         else:\n",
    "#             Calvin.append(n[i])\n",
    "#     print(Calvin)\n",
    "    print(Hobbes)\n",
    "n = [2,3,6,3,6,3]\n",
    "# first_frisbee(236363)\n",
    "# example_n =236363\n",
    "\n",
    "first_frisbee(n)"
   ]
  },
  {
   "cell_type": "code",
   "execution_count": 42,
   "metadata": {},
   "outputs": [
    {
     "ename": "TypeError",
     "evalue": "argument of type 'NoneType' is not iterable",
     "output_type": "error",
     "traceback": [
      "\u001b[1;31m---------------------------------------------------------------------------\u001b[0m",
      "\u001b[1;31mTypeError\u001b[0m                                 Traceback (most recent call last)",
      "\u001b[1;32m<ipython-input-42-1965cbbbb756>\u001b[0m in \u001b[0;36m<module>\u001b[1;34m\u001b[0m\n\u001b[0;32m      2\u001b[0m \u001b[1;32mfor\u001b[0m \u001b[0mi\u001b[0m \u001b[1;32min\u001b[0m \u001b[0meven\u001b[0m\u001b[1;33m:\u001b[0m\u001b[1;33m\u001b[0m\u001b[1;33m\u001b[0m\u001b[0m\n\u001b[0;32m      3\u001b[0m     \u001b[0mfindrepeat\u001b[0m \u001b[1;33m=\u001b[0m \u001b[0meven\u001b[0m\u001b[1;33m.\u001b[0m\u001b[0mremove\u001b[0m\u001b[1;33m(\u001b[0m\u001b[0mi\u001b[0m\u001b[1;33m)\u001b[0m\u001b[1;31m#create new list of just even numbers except the current\u001b[0m\u001b[1;33m\u001b[0m\u001b[1;33m\u001b[0m\u001b[0m\n\u001b[1;32m----> 4\u001b[1;33m     \u001b[1;32mif\u001b[0m \u001b[0mi\u001b[0m \u001b[1;32min\u001b[0m \u001b[0mfindrepeat\u001b[0m \u001b[1;33m==\u001b[0m \u001b[1;32mTrue\u001b[0m\u001b[1;33m:\u001b[0m\u001b[1;33m\u001b[0m\u001b[1;33m\u001b[0m\u001b[0m\n\u001b[0m\u001b[0;32m      5\u001b[0m         \u001b[0mprint\u001b[0m\u001b[1;33m(\u001b[0m\u001b[1;34m'test'\u001b[0m\u001b[1;33m)\u001b[0m\u001b[1;33m\u001b[0m\u001b[1;33m\u001b[0m\u001b[0m\n\u001b[0;32m      6\u001b[0m \u001b[1;31m# print(findrepeat)\u001b[0m\u001b[1;33m\u001b[0m\u001b[1;33m\u001b[0m\u001b[1;33m\u001b[0m\u001b[0m\n",
      "\u001b[1;31mTypeError\u001b[0m: argument of type 'NoneType' is not iterable"
     ]
    }
   ],
   "source": [
    "even = [2,3,6,3,6,3]\n",
    "for i in even:\n",
    "    findrepeat = even.remove(i)#create new list of just even numbers except the current\n",
    "    if i in findrepeat == True:\n",
    "        print('test')\n",
    "# print(findrepeat)\n",
    "#     if i in findrepeat == True:\n",
    "#         pass"
   ]
  },
  {
   "cell_type": "code",
   "execution_count": null,
   "metadata": {},
   "outputs": [],
   "source": [
    "#declare calvin and hobbes is 0 \n",
    "#declare length of string n\n",
    "length = len(str(n))\n",
    "enumerate creates tuple with index and value"
   ]
  },
  {
   "cell_type": "code",
   "execution_count": null,
   "metadata": {},
   "outputs": [],
   "source": [
    "# For this exercise, we will keep track of when our friend’s birthdays are, \n",
    "# and be able to find that information based on their name. \n",
    "# Create a dictionary (in your file) of names and birthdays. \n",
    "# When you run your program it should ask the user to enter a name, \n",
    "# and return the birthday of that person back to them. The interaction \n",
    "# should look something like this:\n",
    "\n",
    "# >>> Welcome to the birthday dictionary. We know the birthdays of:\n",
    "# Albert Einstein\n",
    "# Benjamin Franklin\n",
    "# Ada Lovelace\n",
    "# >>> Who's birthday do you want to look up?\n",
    "# Benjamin Franklin\n",
    "# >>> Benjamin Franklin's birthday is 01/17/1706."
   ]
  },
  {
   "cell_type": "code",
   "execution_count": 29,
   "metadata": {},
   "outputs": [
    {
     "name": "stdout",
     "output_type": "stream",
     "text": [
      "Welcome to the birthday dictionary. We know the birthdays of:\n",
      "Albert Einstein\n",
      "Benjamin Franklin\n",
      "Ada Lovelace\n",
      "Who\"s birthday do you want to look up?\n",
      "Ada Lovelace\n",
      "Mar 3\n"
     ]
    }
   ],
   "source": [
    "# def findbirthday(x)\n",
    "bir = {'Albert Einstein': 'Jan 1', 'Benjamin Franklin': 'Feb 2', 'Ada Lovelace': 'Mar 3' }\n",
    "print('Welcome to the birthday dictionary. We know the birthdays of:')\n",
    "# print(list(bir.keys()))\n",
    "for key in bir:\n",
    "    print(key)\n",
    "print('Who\"s birthday do you want to look up?')\n",
    "a= input()\n",
    "def check(a):\n",
    "    print(bir.get(a))\n",
    "check(a)\n",
    "# print \"you said\", a"
   ]
  },
  {
   "cell_type": "code",
   "execution_count": 17,
   "metadata": {},
   "outputs": [
    {
     "name": "stdout",
     "output_type": "stream",
     "text": [
      "Enter a name\n",
      "lily\n",
      "Enter a birthday\n",
      "may 25\n",
      "{'lily': 'may 25'}\n"
     ]
    }
   ],
   "source": [
    "print('Enter a name')\n",
    "a = input()\n",
    "print('Enter a birthday')\n",
    "b = input()\n",
    "bir = {}\n",
    "bir.update({a:b})\n",
    "print(bir)"
   ]
  },
  {
   "cell_type": "code",
   "execution_count": null,
   "metadata": {},
   "outputs": [],
   "source": [
    "# You are given two strings, str1 and str2, and want to determine if one could possibly represent the other in a simple \n",
    "# substitution cipher. \n",
    "\n",
    "# # In a simple substitution cipher each character is represented by one and only one \"new\" character. \"New\" is in quotations\n",
    "# here because the substituted character could be the original character. Every time the character occurs it must be replaced \n",
    "# by the same character as indicated in the cipher. No two characters can be represented by the same character and no character \n",
    "# can have more than one representation.\n",
    "\n",
    "# # Characters can be alphanumeric (lower- and upper-case are separate characters) or symbolic. This is not a two-way cipher.\n",
    "# That means that if \"a\" in str1 represents \"d\" in str2 that \"d\" in str1 does not have to represent \"a\" in str2. See the \n",
    "# illustration below the examples. In this \"a\" is represented by \"c\" but \"c\" is represented by \"y\".\n",
    "\n",
    "# # Your task:\n",
    "# # Complete the sub_cipher() function to return \"True\" if the strings entered as parameters could represent each other \n",
    "# in a simple substitution cipher, and return \"False\" if they could not.\n",
    "\n",
    "# Examples:\n",
    "# 1. \n",
    "# Input:\n",
    "# print(sub_cipher('toot', 'peep')\n",
    "# Output:\n",
    "# True\n",
    "\n",
    "# Here \"t\" could be represented by \"p\" and \"o\" could be represented by \"e\", so we return \"True\" because the two strings \n",
    "# could represent each other in a simple one-for-one substitution cipher.\n",
    "\n",
    "# 2.\n",
    "# Input:\n",
    "# print(sub_cipher('lambda', 'school')\n",
    "# Output:\n",
    "# False\n",
    "\n",
    "# This returns \"False\" because \"l\" can map to \"s\", \"a\" to \"c\", and \"m\" to \"h\", but then both \"b\" and \"d\" map to \"o\", \n",
    "# which nullifies this per our restriction of characters only having one representation in the cipher.\n",
    "\n",
    "# 3.\n",
    "# Input:\n",
    "# print(sub_cipher('kazoo', 'i poo')\n",
    "# Output:\n",
    "# True\n",
    "\n",
    "# Here each character maps one-to-one to a \"new\" character so we return \"True\": \"k\" to \"i\", \"a\" to \" \", \"z\" to \"p\", and \"o\" to \"o\".\n"
   ]
  },
  {
   "cell_type": "code",
   "execution_count": 64,
   "metadata": {
    "scrolled": true
   },
   "outputs": [
    {
     "name": "stdout",
     "output_type": "stream",
     "text": [
      "'lambda', 'school'\n",
      "{'l': 's', 'a': 'l', 'm': 'h', 'b': 'o', 'd': 'o'}\n"
     ]
    }
   ],
   "source": [
    "words = input()\n",
    "words = words.replace(\"'\", \"\")\n",
    "words = [x.strip() for x in words.split(',')]\n",
    "cipher = words[1]\n",
    "originalword = words[0]\n",
    "cipherlist = []\n",
    "mydict = {}\n",
    "a = -1\n",
    "for i in cipher:\n",
    "    cipherlist.append(i)\n",
    "originalwordlist = []\n",
    "for i in originalword:\n",
    "    originalwordlist.append(i)\n",
    "for i in originalword:\n",
    "    a = a+1\n",
    "    mydict.update({originalwordlist[a]: cipherlist[a]})\n",
    "print(mydict)"
   ]
  },
  {
   "cell_type": "code",
   "execution_count": null,
   "metadata": {},
   "outputs": [],
   "source": [
    "with open('file.txt','r') as open_file:\n",
    "    all_text = open_file.read()"
   ]
  },
  {
   "cell_type": "code",
   "execution_count": 1,
   "metadata": {},
   "outputs": [
    {
     "name": "stdout",
     "output_type": "stream",
     "text": [
      "1.5\n"
     ]
    }
   ],
   "source": [
    "price_dictionary = {\n",
    "    \"banana\": 1.50,\n",
    "    \"avocado\": 0.99,\n",
    "    \"heirloom tomato\": 0.89,\n",
    "    \"cherry tomato pack\": 3.00\n",
    "}\n",
    "print(price_dictionary['banana'])"
   ]
  },
  {
   "cell_type": "code",
   "execution_count": 2,
   "metadata": {},
   "outputs": [
    {
     "name": "stdout",
     "output_type": "stream",
     "text": [
      "dict_keys(['banana', 'avocado', 'heirloom tomato', 'cherry tomato pack'])\n"
     ]
    }
   ],
   "source": [
    "print(price_dictionary.keys())"
   ]
  },
  {
   "cell_type": "code",
   "execution_count": 3,
   "metadata": {},
   "outputs": [
    {
     "data": {
      "text/plain": [
       "1.5"
      ]
     },
     "execution_count": 3,
     "metadata": {},
     "output_type": "execute_result"
    }
   ],
   "source": [
    "price_dictionary['banana']"
   ]
  },
  {
   "cell_type": "code",
   "execution_count": null,
   "metadata": {},
   "outputs": [],
   "source": [
    "#classes are a great way to save and reuse data and functions\n",
    "#data and functions associated with a class are called attributes and methods\n",
    "#methods are functions associated with a class\n",
    "\n",
    "# a class is a blueprint for creating instances\n",
    "#each variable will be an instance of the class\n",
    "\n",
    "#instand variable - contains data unique to that instance"
   ]
  },
  {
   "cell_type": "code",
   "execution_count": 9,
   "metadata": {},
   "outputs": [
    {
     "name": "stdout",
     "output_type": "stream",
     "text": [
      "12\n"
     ]
    }
   ],
   "source": [
    "class myfunk:\n",
    "    def __init__(self):\n",
    "        self.function = 4*3\n",
    "        \n",
    "func = myfunk()\n",
    "\n",
    "print(func.function)"
   ]
  },
  {
   "cell_type": "code",
   "execution_count": 68,
   "metadata": {},
   "outputs": [
    {
     "name": "stdout",
     "output_type": "stream",
     "text": [
      "divisible by 1\n",
      "divisible by 5\n",
      "divisible by 7\n",
      "divisible by 35\n",
      "<__main__.divisor object at 0x0000024FE8E87F60>\n"
     ]
    }
   ],
   "source": [
    "class divisor:\n",
    "    def __init__(self, x, y, z):\n",
    "        self.x = x\n",
    "        self.divisors = list(range(y, z))\n",
    "        for i in divisors:\n",
    "            if x%i == 0:\n",
    "                print('divisible by {}'.format(i))\n",
    "func = divisor(35, 1, 100)\n",
    "print(func)"
   ]
  },
  {
   "cell_type": "code",
   "execution_count": 56,
   "metadata": {},
   "outputs": [
    {
     "name": "stdout",
     "output_type": "stream",
     "text": [
      "Help on divisor in module __main__ object:\n",
      "\n",
      "class divisor(builtins.object)\n",
      " |  divisor(x)\n",
      " |  \n",
      " |  Methods defined here:\n",
      " |  \n",
      " |  __init__(self, x)\n",
      " |      Initialize self.  See help(type(self)) for accurate signature.\n",
      " |  \n",
      " |  ----------------------------------------------------------------------\n",
      " |  Data descriptors defined here:\n",
      " |  \n",
      " |  __dict__\n",
      " |      dictionary for instance variables (if defined)\n",
      " |  \n",
      " |  __weakref__\n",
      " |      list of weak references to the object (if defined)\n",
      "\n"
     ]
    }
   ],
   "source": [
    "help(func)"
   ]
  },
  {
   "cell_type": "code",
   "execution_count": 11,
   "metadata": {},
   "outputs": [
    {
     "name": "stdout",
     "output_type": "stream",
     "text": [
      "Corey.Schafer@company.com\n",
      "Test.User@company.com\n"
     ]
    }
   ],
   "source": [
    "class Employee:\n",
    "    def __init__(self, first, last, pay):#instances\n",
    "        self.first = first\n",
    "        self.last = last\n",
    "        self.pay = pay\n",
    "        self.email = first + '.' + last + '@company.com'\n",
    "        \n",
    "emp_1 = Employee('Corey', 'Schafer', 500000)#init method runs automatically\n",
    "emp_2 = Employee('Test', 'User', 60000)\n",
    "\n",
    "print(emp_1.email)\n",
    "print(emp_2.email)\n",
    "#each method in a class automatically takes instance as first argument, \n",
    "#always called self. instance is only argument we need if we want to make a function for full name"
   ]
  },
  {
   "cell_type": "code",
   "execution_count": 13,
   "metadata": {},
   "outputs": [
    {
     "name": "stdout",
     "output_type": "stream",
     "text": [
      "Corey Schafer\n"
     ]
    }
   ],
   "source": [
    "class Employee:\n",
    "    def __init__(self, first, last, pay):\n",
    "        self.first = first\n",
    "        self.last = last\n",
    "        self.pay = pay\n",
    "        self.email = first + '.' + last + '@company.com'\n",
    "        \n",
    "    def fullname(self):\n",
    "        return '{} {}'.format(self.first, self.last)\n",
    "        #we use self so it takes all instances\n",
    "        \n",
    "emp_1 = Employee('Corey', 'Schafer', 500000)\n",
    "emp_2 = Employee('Test', 'User', 60000)\n",
    "\n",
    "print(emp_1.fullname())\n",
    "\n",
    "#emp_1.fullname(), passes in self automatically\n",
    "#vs\n",
    "#Employee.fullname(emp_1), doesn't know what instance to pass in"
   ]
  },
  {
   "cell_type": "code",
   "execution_count": 16,
   "metadata": {},
   "outputs": [
    {
     "name": "stdout",
     "output_type": "stream",
     "text": [
      "{'first': 'Corey', 'last': 'Schafer', 'pay': 500000, 'email': 'Corey.Schafer@company.com'}\n"
     ]
    }
   ],
   "source": [
    "#class variables, variables shared among all instances of a class\n",
    "\n",
    "class Employee:\n",
    "    def __init__(self, first, last, pay):\n",
    "        self.first = first\n",
    "        self.last = last\n",
    "        self.pay = pay\n",
    "        self.email = first + '.' + last + '@company.com'\n",
    "        \n",
    "    def fullname(self):\n",
    "        return '{} {}'.format(self.first, self.last)\n",
    "    \n",
    "    def apply_raise(self):\n",
    "        self.pay = int(self.pay * 1.04)\n",
    "        \n",
    "emp_1 = Employee('Corey', 'Schafer', 500000)\n",
    "emp_2 = Employee('Test', 'User', 60000)\n",
    "\n",
    "print(emp_1.__dict__)\n"
   ]
  },
  {
   "cell_type": "code",
   "execution_count": 21,
   "metadata": {},
   "outputs": [
    {
     "name": "stdout",
     "output_type": "stream",
     "text": [
      "0\n",
      "2\n",
      "1.04\n",
      "1.05\n",
      "1.04\n"
     ]
    }
   ],
   "source": [
    "class Employee:\n",
    "    \n",
    "    num_of_emps = 0\n",
    "    raise_amount = 1.04\n",
    "    def __init__(self, first, last, pay):\n",
    "        self.first = first\n",
    "        self.last = last\n",
    "        self.pay = pay\n",
    "        self.email = first + '.' + last + '@company.com'\n",
    "        \n",
    "        Employee.num_of_emps +=1\n",
    "        \n",
    "    def fullname(self):\n",
    "        return '{} {}'.format(self.first, self.last)\n",
    "    \n",
    "    def apply_raise(self):\n",
    "        self.pay = int(self.pay * self.raise_amount)\n",
    "        #you have to access variable here from instance also by Employee.raise_amount\n",
    "\n",
    "print(Employee.num_of_emps)\n",
    "emp_1 = Employee('Corey', 'Schafer', 500000)\n",
    "emp_2 = Employee('Test', 'User', 60000)\n",
    "print(Employee.num_of_emps)\n",
    "emp_1.raise_amount = 1.05 #changes a specific instance\n",
    "\n",
    "print(Employee.raise_amount)\n",
    "print(emp_1.raise_amount)#accessing class's raise_amount attribute\n",
    "print(emp_2.raise_amount)\n"
   ]
  },
  {
   "cell_type": "code",
   "execution_count": 26,
   "metadata": {},
   "outputs": [
    {
     "name": "stdout",
     "output_type": "stream",
     "text": [
      "{'first': 'Test', 'last': 'User', 'pay': 60000, 'email': 'Test.User@company.com'}\n"
     ]
    }
   ],
   "source": [
    "class Employee:\n",
    "    \n",
    "    \n",
    "    num_of_emps = 0\n",
    "    raise_amount = 1.04\n",
    "    \n",
    "    def __init__(self, first, last, pay):\n",
    "        self.first = first\n",
    "        self.last = last\n",
    "        self.pay = pay\n",
    "        self.email = first + '.' + last + '@company.com'\n",
    "        \n",
    "        Employee.num_of_emps +=1\n",
    "        \n",
    "    def fullname(self):#how can we take class as first argument?\n",
    "        return '{} {}'.format(self.first, self.last)\n",
    "    \n",
    "    def apply_raise(self):\n",
    "        self.pay = int(self.pay * self.raise_amount)\n",
    "        \n",
    "    @classmethod\n",
    "    def set_raise_amt(cls, amount):\n",
    "        cls.raise_amt = amount\n",
    "        \n",
    "emp_1 = Employee('Corey', 'Schafer', 500000)\n",
    "emp_2 = Employee('Test', 'User', 60000)\n",
    "\n",
    "#above is the same thing as \n",
    "\n",
    "Employee.set_raise_amt(1.05)#we are setting cls.raise_amt to 1.05\n",
    "#the above sets the \"amount\" this is the same as saying\n",
    "#Employee.set_raise_amt = 1.05\n",
    "\n",
    "# print(Employee.__dict__)\n",
    "print(emp_2.__dict__)\n",
    "\n",
    "#regular methods in a class take an instance as the first argument\n",
    "#by convention called self, how do we take class method instead of self?\n",
    "#we call @classmethod"
   ]
  },
  {
   "cell_type": "code",
   "execution_count": 28,
   "metadata": {},
   "outputs": [
    {
     "name": "stdout",
     "output_type": "stream",
     "text": [
      "John.Doe@company.com\n",
      "70000\n"
     ]
    }
   ],
   "source": [
    "#passing a string to create an employee\n",
    "class Employee:\n",
    "    \n",
    "    \n",
    "    num_of_emps = 0\n",
    "    raise_amount = 1.04\n",
    "    \n",
    "    def __init__(self, first, last, pay):\n",
    "        self.first = first\n",
    "        self.last = last\n",
    "        self.pay = pay\n",
    "        self.email = first + '.' + last + '@company.com'\n",
    "        \n",
    "        Employee.num_of_emps +=1\n",
    "        \n",
    "    def fullname(self):#how can we take class as first argument?\n",
    "        return '{} {}'.format(self.first, self.last)\n",
    "    \n",
    "    def apply_raise(self):\n",
    "        self.pay = int(self.pay * self.raise_amount)\n",
    "        \n",
    "    @classmethod#decorators alter the functionality of our method\n",
    "    #class is first argument instead of instance\n",
    "    def set_raise_amt(cls, amount):\n",
    "        cls.raise_amt = amount\n",
    "        \n",
    "    @classmethod\n",
    "    def from_string(cls, emp_str):\n",
    "        first, last, pay = emp_str.split('-')\n",
    "        return cls(first, last, pay)\n",
    "    \n",
    "emp_1 = Employee('Corey', 'Schafer', 500000)\n",
    "emp_2 = Employee('Test', 'User', 60000)\n",
    "        \n",
    "emp_str_1 = 'John-Doe-70000'\n",
    "emp_str_2 = 'Steve-Smit-30000'\n",
    "emp_str_3 = 'Jane-Doe-90000'\n",
    "\n",
    "new_emp_1 = Employee.from_string(emp_str_1)#class methods as alternative constructors\n",
    "\n",
    "# first, last, pay = emp_str_1.split('-')\n",
    "\n",
    "# new_emp_1 = Employee(first, last, pay)\n",
    "\n",
    "print(new_emp_1.email)\n",
    "print(new_emp_1.pay)"
   ]
  },
  {
   "cell_type": "code",
   "execution_count": 36,
   "metadata": {},
   "outputs": [
    {
     "name": "stdout",
     "output_type": "stream",
     "text": [
      "Corey.Schafer@company.com\n",
      "Python\n"
     ]
    }
   ],
   "source": [
    "class Employee:\n",
    "    \n",
    "    \n",
    "    num_of_emps = 0\n",
    "    raise_amount = 1.04\n",
    "    \n",
    "    def __init__(self, first, last, pay):\n",
    "        self.first = first\n",
    "        self.last = last\n",
    "        self.pay = pay\n",
    "        self.email = first + '.' + last + '@company.com'\n",
    "        \n",
    "        Employee.num_of_emps +=1\n",
    "        \n",
    "    def fullname(self):#how can we take class as first argument?\n",
    "        return '{} {}'.format(self.first, self.last)\n",
    "    \n",
    "    def apply_raise(self):\n",
    "        self.pay = int(self.pay * self.raise_amount)\n",
    "        \n",
    "#inherit self.etc from previous class        \n",
    "#we want to pass in their main programming language as an attribute\n",
    "#so we need to give Developer class it's own init method\n",
    "class Developer(Employee):\n",
    "    raise_amt = 1.10\n",
    "    \n",
    "    def __init__(self, first, last, pay, prog_lang):\n",
    "        super().__init__(first, last, pay)#let employee handle first, last, pay\n",
    "        self.prog_lang = prog_lang\n",
    "\n",
    "dev_1 = Developer('Corey', 'Schafer', 50000, 'Python')\n",
    "dev_2 = Developer('Test', 'Employee', 60000, 'Java')\n",
    "#looks in Developer class, did not find, then walks up chain of inheritance\n",
    "#called method resolution order\n",
    "print(dev_1.email)\n",
    "print(dev_1.prog_lang)"
   ]
  },
  {
   "cell_type": "code",
   "execution_count": 32,
   "metadata": {},
   "outputs": [
    {
     "name": "stdout",
     "output_type": "stream",
     "text": [
      "Help on class Developer in module __main__:\n",
      "\n",
      "class Developer(Employee)\n",
      " |  Developer(first, last, pay)\n",
      " |  \n",
      " |  Method resolution order:\n",
      " |      Developer\n",
      " |      Employee\n",
      " |      builtins.object\n",
      " |  \n",
      " |  Methods inherited from Employee:\n",
      " |  \n",
      " |  __init__(self, first, last, pay)\n",
      " |      Initialize self.  See help(type(self)) for accurate signature.\n",
      " |  \n",
      " |  apply_raise(self)\n",
      " |  \n",
      " |  fullname(self)\n",
      " |  \n",
      " |  ----------------------------------------------------------------------\n",
      " |  Data descriptors inherited from Employee:\n",
      " |  \n",
      " |  __dict__\n",
      " |      dictionary for instance variables (if defined)\n",
      " |  \n",
      " |  __weakref__\n",
      " |      list of weak references to the object (if defined)\n",
      " |  \n",
      " |  ----------------------------------------------------------------------\n",
      " |  Data and other attributes inherited from Employee:\n",
      " |  \n",
      " |  num_of_emps = 2\n",
      " |  \n",
      " |  raise_amount = 1.04\n",
      "\n"
     ]
    }
   ],
   "source": [
    "help(Developer)"
   ]
  },
  {
   "cell_type": "code",
   "execution_count": null,
   "metadata": {},
   "outputs": [],
   "source": []
  }
 ],
 "metadata": {
  "kernelspec": {
   "display_name": "Python 3",
   "language": "python",
   "name": "python3"
  },
  "language_info": {
   "codemirror_mode": {
    "name": "ipython",
    "version": 3
   },
   "file_extension": ".py",
   "mimetype": "text/x-python",
   "name": "python",
   "nbconvert_exporter": "python",
   "pygments_lexer": "ipython3",
   "version": "3.7.3"
  }
 },
 "nbformat": 4,
 "nbformat_minor": 2
}
