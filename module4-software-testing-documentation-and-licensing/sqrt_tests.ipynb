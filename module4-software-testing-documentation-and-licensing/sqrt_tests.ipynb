{
 "cells": [
  {
   "cell_type": "code",
   "execution_count": 29,
   "metadata": {},
   "outputs": [
    {
     "name": "stdout",
     "output_type": "stream",
     "text": [
      "Collecting Google2Pandas\n",
      "  Downloading https://files.pythonhosted.org/packages/33/f0/477fd480e77456c24dd5c050ed774b842a479fd31436715a5e9816ccf4f8/Google2Pandas-0.1.001.tar.gz\n",
      "Requirement already satisfied: numpy>=1.7 in c:\\users\\lilyx\\anaconda3\\lib\\site-packages (from Google2Pandas) (1.16.2)\n",
      "Requirement already satisfied: pandas>=0.15 in c:\\users\\lilyx\\anaconda3\\lib\\site-packages (from Google2Pandas) (0.23.4)\n",
      "Collecting google-api-python-client (from Google2Pandas)\n",
      "  Downloading https://files.pythonhosted.org/packages/3f/f1/20fd18744c3d20307d634ffcc02592bc7efc45a59624e14655cf21cbfb5e/google_api_python_client-1.7.9-py3-none-any.whl (56kB)\n",
      "Collecting httplib2 (from Google2Pandas)\n",
      "  Downloading https://files.pythonhosted.org/packages/a8/12/213dee680d0e7d5689e3ef20c857f72932964c9d369ec50fbc39906fc757/httplib2-0.13.0-py3-none-any.whl (94kB)\n",
      "Requirement already satisfied: pytz>=2011k in c:\\users\\lilyx\\appdata\\roaming\\python\\python37\\site-packages (from pandas>=0.15->Google2Pandas) (2018.7)\n",
      "Requirement already satisfied: python-dateutil>=2.5.0 in c:\\users\\lilyx\\appdata\\roaming\\python\\python37\\site-packages (from pandas>=0.15->Google2Pandas) (2.7.5)\n",
      "Collecting uritemplate<4dev,>=3.0.0 (from google-api-python-client->Google2Pandas)\n",
      "  Downloading https://files.pythonhosted.org/packages/e5/7d/9d5a640c4f8bf2c8b1afc015e9a9d8de32e13c9016dcc4b0ec03481fb396/uritemplate-3.0.0-py2.py3-none-any.whl\n",
      "Collecting google-auth>=1.4.1 (from google-api-python-client->Google2Pandas)\n",
      "  Downloading https://files.pythonhosted.org/packages/c5/9b/ed0516cc1f7609fb0217e3057ff4f0f9f3e3ce79a369c6af4a6c5ca25664/google_auth-1.6.3-py2.py3-none-any.whl (73kB)\n",
      "Requirement already satisfied: six<2dev,>=1.6.1 in c:\\users\\lilyx\\appdata\\roaming\\python\\python37\\site-packages (from google-api-python-client->Google2Pandas) (1.11.0)\n",
      "Collecting google-auth-httplib2>=0.0.3 (from google-api-python-client->Google2Pandas)\n",
      "  Downloading https://files.pythonhosted.org/packages/33/49/c814d6d438b823441552198f096fcd0377fd6c88714dbed34f1d3c8c4389/google_auth_httplib2-0.0.3-py2.py3-none-any.whl\n",
      "Collecting cachetools>=2.0.0 (from google-auth>=1.4.1->google-api-python-client->Google2Pandas)\n",
      "  Downloading https://files.pythonhosted.org/packages/2f/a6/30b0a0bef12283e83e58c1d6e7b5aabc7acfc4110df81a4471655d33e704/cachetools-3.1.1-py2.py3-none-any.whl\n",
      "Collecting rsa>=3.1.4 (from google-auth>=1.4.1->google-api-python-client->Google2Pandas)\n",
      "  Downloading https://files.pythonhosted.org/packages/02/e5/38518af393f7c214357079ce67a317307936896e961e35450b70fad2a9cf/rsa-4.0-py2.py3-none-any.whl\n",
      "Collecting pyasn1-modules>=0.2.1 (from google-auth>=1.4.1->google-api-python-client->Google2Pandas)\n",
      "  Downloading https://files.pythonhosted.org/packages/91/f0/b03e00ce9fddf4827c42df1c3ce10c74eadebfb706231e8d6d1c356a4062/pyasn1_modules-0.2.5-py2.py3-none-any.whl (74kB)\n",
      "Collecting pyasn1>=0.1.3 (from rsa>=3.1.4->google-auth>=1.4.1->google-api-python-client->Google2Pandas)\n",
      "  Downloading https://files.pythonhosted.org/packages/7b/7c/c9386b82a25115cccf1903441bba3cbadcfae7b678a20167347fa8ded34c/pyasn1-0.4.5-py2.py3-none-any.whl (73kB)\n",
      "Building wheels for collected packages: Google2Pandas\n",
      "  Building wheel for Google2Pandas (setup.py): started\n",
      "  Building wheel for Google2Pandas (setup.py): finished with status 'done'\n",
      "  Stored in directory: C:\\Users\\lilyx\\AppData\\Local\\pip\\Cache\\wheels\\72\\16\\77\\f846ec01f9cd89fb283661bde075fefb574a12c190e6e63942\n",
      "Successfully built Google2Pandas\n",
      "Installing collected packages: uritemplate, cachetools, pyasn1, rsa, pyasn1-modules, google-auth, httplib2, google-auth-httplib2, google-api-python-client, Google2Pandas\n",
      "Successfully installed Google2Pandas-0.1.1 cachetools-3.1.1 google-api-python-client-1.7.9 google-auth-1.6.3 google-auth-httplib2-0.0.3 httplib2-0.13.0 pyasn1-0.4.5 pyasn1-modules-0.2.5 rsa-4.0 uritemplate-3.0.0\n",
      "Note: you may need to restart the kernel to use updated packages.\n"
     ]
    }
   ],
   "source": [
    "# pip install Google2Pandas"
   ]
  },
  {
   "cell_type": "code",
   "execution_count": 31,
   "metadata": {},
   "outputs": [
    {
     "name": "stdout",
     "output_type": "stream",
     "text": [
      "Collecting package metadata (repodata.json): ...working... done\n",
      "Solving environment: ...working... \n",
      "The environment is inconsistent, please check the package plan carefully\n",
      "The following packages are causing the inconsistency:\n",
      "\n",
      "  - defaults/win-64::anaconda==2019.03=py37_0\n",
      "  - defaults/win-64::bkcharts==0.2=py37_0\n",
      "  - conda-forge/noarch::category_encoders==1.3.0=py_0\n",
      "  - defaults/win-64::dask==1.1.4=py37_1\n",
      "  - conda-forge/win-64::fbprophet==0.5=py37h6538335_0\n",
      "  - conda-forge/noarch::feather-format==0.4.0=py_1003\n",
      "  - defaults/noarch::geopandas==0.4.1=py_0\n",
      "  - defaults/noarch::mapclassify==2.0.1=py_0\n",
      "  - conda-forge/noarch::mlxtend==0.16.0=py_0\n",
      "  - conda-forge/win-64::pyarrow==0.12.1=py37h8c67754_0\n",
      "  - defaults/win-64::seaborn==0.9.0=py37_0\n",
      "  - conda-forge/win-64::shap==0.29.3=py37he350917_0\n",
      "  - defaults/win-64::statsmodels==0.9.0=py37h452e1ab_0\n",
      "done\n",
      "\n",
      "## Package Plan ##\n",
      "\n",
      "  environment location: C:\\Users\\lilyx\\Anaconda3\n",
      "\n",
      "  added / updated specs:\n",
      "    - oauth2client\n",
      "\n",
      "\n",
      "The following packages will be downloaded:\n",
      "\n",
      "    package                    |            build\n",
      "    ---------------------------|-----------------\n",
      "    _anaconda_depends-2019.03  |           py37_0           5 KB\n",
      "    anaconda-custom            |           py37_1           2 KB\n",
      "    ca-certificates-2019.6.16  |       hecc5488_0         183 KB  conda-forge\n",
      "    certifi-2019.6.16          |           py37_0         148 KB  conda-forge\n",
      "    httplib2-0.13.0            |           py37_0         116 KB  conda-forge\n",
      "    oauth2client-4.1.3         |             py_0          66 KB  conda-forge\n",
      "    openssl-1.1.1b             |       hfa6e2cd_2         4.8 MB  conda-forge\n",
      "    pandas-0.24.2              |   py37he350917_0         9.4 MB  conda-forge\n",
      "    pyasn1-0.4.5               |             py_0          49 KB  conda-forge\n",
      "    pyasn1-modules-0.2.5       |             py_0          38 KB  conda-forge\n",
      "    rsa-4.0                    |             py_0          27 KB  conda-forge\n",
      "    ------------------------------------------------------------\n",
      "                                           Total:        14.8 MB\n",
      "\n",
      "The following NEW packages will be INSTALLED:\n",
      "\n",
      "  _anaconda_depends  pkgs/main/win-64::_anaconda_depends-2019.03-py37_0\n",
      "  httplib2           conda-forge/win-64::httplib2-0.13.0-py37_0\n",
      "  oauth2client       conda-forge/noarch::oauth2client-4.1.3-py_0\n",
      "  pandas             conda-forge/win-64::pandas-0.24.2-py37he350917_0\n",
      "  pyasn1             conda-forge/noarch::pyasn1-0.4.5-py_0\n",
      "  pyasn1-modules     conda-forge/noarch::pyasn1-modules-0.2.5-py_0\n",
      "  rsa                conda-forge/noarch::rsa-4.0-py_0\n",
      "\n",
      "The following packages will be UPDATED:\n",
      "\n",
      "  ca-certificates    pkgs/main::ca-certificates-2019.1.23-0 --> conda-forge::ca-certificates-2019.6.16-hecc5488_0\n",
      "  certifi                                   2019.3.9-py37_0 --> 2019.6.16-py37_0\n",
      "  openssl              pkgs/main::openssl-1.1.1b-he774522_1 --> conda-forge::openssl-1.1.1b-hfa6e2cd_2\n",
      "\n",
      "The following packages will be DOWNGRADED:\n",
      "\n",
      "  anaconda                                   2019.03-py37_0 --> custom-py37_1\n",
      "\n",
      "\n",
      "\n",
      "Downloading and Extracting Packages\n",
      "\n",
      "rsa-4.0              | 27 KB     |            |   0% \n",
      "rsa-4.0              | 27 KB     | ########## | 100% \n",
      "\n",
      "openssl-1.1.1b       | 4.8 MB    |            |   0% \n",
      "openssl-1.1.1b       | 4.8 MB    | ###        |  31% \n",
      "openssl-1.1.1b       | 4.8 MB    | #########  |  91% \n",
      "openssl-1.1.1b       | 4.8 MB    | ########## | 100% \n",
      "\n",
      "pyasn1-0.4.5         | 49 KB     |            |   0% \n",
      "pyasn1-0.4.5         | 49 KB     | ########## | 100% \n",
      "\n",
      "anaconda-custom      | 2 KB      |            |   0% \n",
      "anaconda-custom      | 2 KB      | ########## | 100% \n",
      "\n",
      "pandas-0.24.2        | 9.4 MB    |            |   0% \n",
      "pandas-0.24.2        | 9.4 MB    | #1         |  11% \n",
      "pandas-0.24.2        | 9.4 MB    | ####       |  41% \n",
      "pandas-0.24.2        | 9.4 MB    | #######    |  70% \n",
      "pandas-0.24.2        | 9.4 MB    | #########7 |  97% \n",
      "pandas-0.24.2        | 9.4 MB    | ########## | 100% \n",
      "\n",
      "certifi-2019.6.16    | 148 KB    |            |   0% \n",
      "certifi-2019.6.16    | 148 KB    | ########## | 100% \n",
      "\n",
      "httplib2-0.13.0      | 116 KB    |            |   0% \n",
      "httplib2-0.13.0      | 116 KB    | ########## | 100% \n",
      "\n",
      "oauth2client-4.1.3   | 66 KB     |            |   0% \n",
      "oauth2client-4.1.3   | 66 KB     | ########## | 100% \n",
      "\n",
      "pyasn1-modules-0.2.5 | 38 KB     |            |   0% \n",
      "pyasn1-modules-0.2.5 | 38 KB     | ########## | 100% \n",
      "\n",
      "ca-certificates-2019 | 183 KB    |            |   0% \n",
      "ca-certificates-2019 | 183 KB    | ########## | 100% \n",
      "\n",
      "_anaconda_depends-20 | 5 KB      |            |   0% \n",
      "_anaconda_depends-20 | 5 KB      | ########## | 100% \n",
      "Preparing transaction: ...working... done\n",
      "Verifying transaction: ...working... done\n",
      "Executing transaction: ...working... done\n",
      "\n",
      "Note: you may need to restart the kernel to use updated packages.\n"
     ]
    },
    {
     "name": "stderr",
     "output_type": "stream",
     "text": [
      "WARNING conda.base.context:use_only_tar_bz2(632): Conda is constrained to only using the old .tar.bz2 file format because you have conda-build installed, and it is <3.18.3.  Update or remove conda-build to get smaller downloads and faster extractions.\n"
     ]
    }
   ],
   "source": [
    "# conda install -c conda-forge oauth2client "
   ]
  },
  {
   "cell_type": "code",
   "execution_count": 2,
   "metadata": {},
   "outputs": [
    {
     "name": "stdout",
     "output_type": "stream",
     "text": [
      "Requirement already up-to-date: google-api-python-client in c:\\users\\lilyx\\anaconda3\\lib\\site-packages (1.7.9)\n",
      "Requirement already satisfied, skipping upgrade: google-auth>=1.4.1 in c:\\users\\lilyx\\anaconda3\\lib\\site-packages (from google-api-python-client) (1.6.3)\n",
      "Requirement already satisfied, skipping upgrade: google-auth-httplib2>=0.0.3 in c:\\users\\lilyx\\anaconda3\\lib\\site-packages (from google-api-python-client) (0.0.3)\n",
      "Requirement already satisfied, skipping upgrade: uritemplate<4dev,>=3.0.0 in c:\\users\\lilyx\\anaconda3\\lib\\site-packages (from google-api-python-client) (3.0.0)\n",
      "Requirement already satisfied, skipping upgrade: httplib2<1dev,>=0.9.2 in c:\\users\\lilyx\\anaconda3\\lib\\site-packages (from google-api-python-client) (0.13.0)\n",
      "Requirement already satisfied, skipping upgrade: six<2dev,>=1.6.1 in c:\\users\\lilyx\\appdata\\roaming\\python\\python37\\site-packages (from google-api-python-client) (1.11.0)\n",
      "Requirement already satisfied, skipping upgrade: cachetools>=2.0.0 in c:\\users\\lilyx\\anaconda3\\lib\\site-packages (from google-auth>=1.4.1->google-api-python-client) (3.1.1)\n",
      "Requirement already satisfied, skipping upgrade: rsa>=3.1.4 in c:\\users\\lilyx\\anaconda3\\lib\\site-packages (from google-auth>=1.4.1->google-api-python-client) (4.0)\n",
      "Requirement already satisfied, skipping upgrade: pyasn1-modules>=0.2.1 in c:\\users\\lilyx\\anaconda3\\lib\\site-packages (from google-auth>=1.4.1->google-api-python-client) (0.2.5)\n",
      "Requirement already satisfied, skipping upgrade: pyasn1>=0.1.3 in c:\\users\\lilyx\\anaconda3\\lib\\site-packages (from rsa>=3.1.4->google-auth>=1.4.1->google-api-python-client) (0.4.5)\n",
      "Note: you may need to restart the kernel to use updated packages.\n"
     ]
    }
   ],
   "source": [
    "# pip install --upgrade google-api-python-client"
   ]
  },
  {
   "cell_type": "code",
   "execution_count": 19,
   "metadata": {},
   "outputs": [],
   "source": [
    "# \"\"\"Hello Analytics Reporting API V4.\"\"\"\n",
    "\n",
    "# from apiclient.discovery import build\n",
    "# from oauth2client.service_account import ServiceAccountCredentials\n",
    "\n",
    "\n",
    "# SCOPES = ['https://www.googleapis.com/auth/analytics.readonly']\n",
    "# KEY_FILE_LOCATION = 'steady-thunder-246321-6ca6021f2d7b.json'\n",
    "# VIEW_ID = '72884975'\n",
    "\n",
    "\n",
    "# def initialize_analyticsreporting():\n",
    "#   \"\"\"Initializes an Analytics Reporting API V4 service object.\n",
    "\n",
    "#   Returns:\n",
    "#     An authorized Analytics Reporting API V4 service object.\n",
    "#   \"\"\"\n",
    "#   credentials = ServiceAccountCredentials.from_json_keyfile_name(\n",
    "#       KEY_FILE_LOCATION, SCOPES)\n",
    "\n",
    "#   # Build the service object.\n",
    "#   analytics = build('analyticsreporting', 'v4', credentials=credentials)\n",
    "\n",
    "#   return analytics\n",
    "\n",
    "\n",
    "# def get_report(analytics):\n",
    "#   \"\"\"Queries the Analytics Reporting API V4.\n",
    "\n",
    "#   Args:\n",
    "#     analytics: An authorized Analytics Reporting API V4 service object.\n",
    "#   Returns:\n",
    "#     The Analytics Reporting API V4 response.\n",
    "#   \"\"\"\n",
    "#   return analytics.reports().batchGet(\n",
    "#       body={\n",
    "#         'reportRequests': [\n",
    "#         {\n",
    "#           'viewId': VIEW_ID,\n",
    "#           'dateRanges': [{'startDate': '7daysAgo', 'endDate': 'today'}],\n",
    "#           'metrics': [{'expression': 'ga:sessions'}],\n",
    "#           'dimensions': [{'name': 'ga:country'}]\n",
    "#         }]\n",
    "#       }\n",
    "#   ).execute()\n",
    "\n",
    "\n",
    "# def print_response(response):\n",
    "#   \"\"\"Parses and prints the Analytics Reporting API V4 response.\n",
    "\n",
    "#   Args:\n",
    "#     response: An Analytics Reporting API V4 response.\n",
    "#   \"\"\"\n",
    "#   for report in response.get('reports', []):\n",
    "#     columnHeader = report.get('columnHeader', {})\n",
    "#     dimensionHeaders = columnHeader.get('dimensions', [])\n",
    "#     metricHeaders = columnHeader.get('metricHeader', {}).get('metricHeaderEntries', [])\n",
    "\n",
    "#     for row in report.get('data', {}).get('rows', []):\n",
    "#       dimensions = row.get('dimensions', [])\n",
    "#       dateRangeValues = row.get('metrics', [])\n",
    "\n",
    "#       for header, dimension in zip(dimensionHeaders, dimensions):\n",
    "#         print(header + ': ' + dimension)\n",
    "\n",
    "#       for i, values in enumerate(dateRangeValues):\n",
    "#         print('Date range: ' + str(i))\n",
    "#         for metricHeader, value in zip(metricHeaders, values.get('values')):\n",
    "#           print(metricHeader.get('name') + ': ' + value)\n",
    "\n",
    "\n",
    "# def main():\n",
    "#   analytics = initialize_analyticsreporting()\n",
    "#   response = get_report(analytics)\n",
    "#   print_response(response)\n",
    "\n",
    "# if __name__ == '__main__':\n",
    "# #   main()"
   ]
  },
  {
   "cell_type": "code",
   "execution_count": 18,
   "metadata": {},
   "outputs": [
    {
     "data": {
      "text/plain": [
       "<googleapiclient.discovery.Resource at 0x20184961828>"
      ]
     },
     "execution_count": 18,
     "metadata": {},
     "output_type": "execute_result"
    }
   ],
   "source": [
    "# initialize_analyticsreporting()"
   ]
  },
  {
   "cell_type": "code",
   "execution_count": 24,
   "metadata": {},
   "outputs": [
    {
     "data": {
      "text/plain": [
       "{'reports': [{'columnHeader': {'dimensions': ['ga:country'],\n",
       "    'metricHeader': {'metricHeaderEntries': [{'name': 'ga:sessions',\n",
       "       'type': 'INTEGER'}]}},\n",
       "   'data': {'totals': [{'values': ['0']}]}}]}"
      ]
     },
     "execution_count": 24,
     "metadata": {},
     "output_type": "execute_result"
    }
   ],
   "source": [
    "# get_report(initialize_analyticsreporting())"
   ]
  },
  {
   "cell_type": "code",
   "execution_count": 25,
   "metadata": {},
   "outputs": [
    {
     "ename": "TypeError",
     "evalue": "print_response() missing 1 required positional argument: 'response'",
     "output_type": "error",
     "traceback": [
      "\u001b[1;31m---------------------------------------------------------------------------\u001b[0m",
      "\u001b[1;31mTypeError\u001b[0m                                 Traceback (most recent call last)",
      "\u001b[1;32m<ipython-input-25-3dcf009cf895>\u001b[0m in \u001b[0;36m<module>\u001b[1;34m\u001b[0m\n\u001b[1;32m----> 1\u001b[1;33m \u001b[0mprint_response\u001b[0m\u001b[1;33m(\u001b[0m\u001b[1;33m)\u001b[0m\u001b[1;33m\u001b[0m\u001b[1;33m\u001b[0m\u001b[0m\n\u001b[0m",
      "\u001b[1;31mTypeError\u001b[0m: print_response() missing 1 required positional argument: 'response'"
     ]
    }
   ],
   "source": [
    "# print_response()"
   ]
  },
  {
   "cell_type": "code",
   "execution_count": 26,
   "metadata": {},
   "outputs": [],
   "source": [
    "# from oauth2client.client import OAuth2WebServerFlow\n",
    "# from oauth2client.tools import run_flow\n",
    "# from oauth2client.file import Storage\n",
    "# import json\n",
    "# import os\n",
    "# import re\n",
    "# import httplib2 \n",
    "# from oauth2client import GOOGLE_REVOKE_URI, GOOGLE_TOKEN_URI, client\n",
    "# import requests\n",
    "# import pandas as pd"
   ]
  },
  {
   "cell_type": "code",
   "execution_count": 30,
   "metadata": {},
   "outputs": [],
   "source": [
    "# '''function check whether file exist in the path or not'''\n",
    "# def where_json(file_name):return os.path.exists(file_name)\n",
    "\n",
    "# ''' function return the refresh token '''\n",
    "\n",
    "# def get_refresh_token(client_id,client_secret):\n",
    "#     CLIENT_ID = client_id\n",
    "#     CLIENT_SECRET = client_secret\n",
    "#     SCOPE = 'https://www.googleapis.com/auth/analytics.readonly'\n",
    "#     REDIRECT_URI = 'http:localhost:8080'\n",
    "  \n",
    "#     flow = OAuth2WebServerFlow(client_id=CLIENT_ID,client_secret=CLIENT_SECRET,scope=SCOPE,redirect_uri=REDIRECT_URI)\n",
    "#     if where_json('credential.json')==False:\n",
    "#        storage = Storage('credential.json') \n",
    "#        credentials = run_flow(flow, storage)\n",
    "#        refresh_token=credentials.refresh_token\n",
    "       \n",
    "#     elif where_json('credential.json')==True:\n",
    "#        with open('credential.json') as json_file:  \n",
    "#            data         = json.load(json_file)\n",
    "#        refresh_token=data['refresh_token']\n",
    "  \n",
    "#     return(refresh_token)"
   ]
  },
  {
   "cell_type": "code",
   "execution_count": 34,
   "metadata": {},
   "outputs": [
    {
     "name": "stderr",
     "output_type": "stream",
     "text": [
      "usage: ipykernel_launcher.py [--auth_host_name AUTH_HOST_NAME]\n",
      "                             [--noauth_local_webserver]\n",
      "                             [--auth_host_port [AUTH_HOST_PORT [AUTH_HOST_PORT ...]]]\n",
      "                             [--logging_level {DEBUG,INFO,WARNING,ERROR,CRITICAL}]\n",
      "ipykernel_launcher.py: error: unrecognized arguments: -f C:\\Users\\lilyx\\AppData\\Roaming\\jupyter\\runtime\\kernel-e6b60524-ad3b-4cf3-83d6-97fc9e903db5.json\n"
     ]
    },
    {
     "ename": "SystemExit",
     "evalue": "2",
     "output_type": "error",
     "traceback": [
      "An exception has occurred, use %tb to see the full traceback.\n",
      "\u001b[1;31mSystemExit\u001b[0m\u001b[1;31m:\u001b[0m 2\n"
     ]
    }
   ],
   "source": [
    "# client_id = '278065920204-ublus7060k2oq8u91tg9lqa9qgbklem8.apps.googleusercontent.com'\n",
    "# client_secret = 'T3XBiJ28SiCCnQVJDOayWRAm'\n",
    "# refresh_token=get_refresh_token(client_id,client_secret)"
   ]
  },
  {
   "cell_type": "code",
   "execution_count": 32,
   "metadata": {},
   "outputs": [],
   "source": [
    "# ''' function return the google analytics data for given dimension, metrics, start data, end data access token, type,goal number, condition'''\n",
    "\n",
    "# def google_analytics_reporting_api_data_extraction(viewID,dim,met,start_date,end_date,refresh_token,transaction_type,goal_number,condition):\n",
    "    \n",
    "#     viewID=viewID;dim=dim;met=met;start_date=start_date;end_date=end_date;refresh_token=refresh_token;transaction_type=transaction_type;condition=condition\n",
    "#     goal_number=goal_number\n",
    "#     viewID=\"\".join(['ga%3A',viewID])\n",
    "    \n",
    "#     if transaction_type==\"Goal\":\n",
    "#         met1=\"%2C\".join([re.sub(\":\",\"%3A\",i) for i in met]).replace(\"XX\",str(goal_number))\n",
    "#     elif transaction_type==\"Transaction\":\n",
    "#         met1=\"%2C\".join([re.sub(\":\",\"%3A\",i) for i in met])\n",
    "        \n",
    "#     dim1=\"%2C\".join([re.sub(\":\",\"%3A\",i) for i in dim])\n",
    "    \n",
    "#     if where_json('credential.json')==True:\n",
    "#        with open('credential.json') as json_file:  \n",
    "#            storage_data = json.load(json_file)\n",
    "       \n",
    "#        client_id=storage_data['client_id']\n",
    "#        client_secret=storage_data['client_secret']\n",
    "#        credentials = client.OAuth2Credentials(\n",
    "#                 access_token=None, client_id=client_id, client_secret=client_secret, refresh_token=refresh_token,\n",
    "#                 token_expiry=3600,token_uri=GOOGLE_TOKEN_URI,user_agent='my-user-agent/1.0',revoke_uri=GOOGLE_REVOKE_URI)\n",
    "\n",
    "#        credentials.refresh(httplib2.Http())\n",
    "#        rt=(json.loads(credentials.to_json()))['access_token']\n",
    "  \n",
    "#        api_url=\"https://www.googleapis.com/analytics/v3/data/ga?ids=\"\n",
    "    \n",
    "#        url=\"\".join([api_url,viewID,'&start-date=',start_date,'&end-date=',end_date,'&metrics=',met1,'&dimensions=',dim1,'&max-results=1000000',condition,'&access_token=',rt])\n",
    "    \n",
    "#        data=pd.DataFrame()\n",
    "    \n",
    "#        try:\n",
    "#          r = requests.get(url)\n",
    "                \n",
    "#          try:\n",
    "#             data=pd.DataFrame(list((r.json())['rows']),columns=[re.sub(\"ga:\",\"\",i) for i in dim+met])\n",
    "#             data['date']=start_date\n",
    "#             print(\"data extraction is successfully completed\")\n",
    "           \n",
    "#             return data\n",
    "#          except:\n",
    "#             print((r.json()))\n",
    "#        except:\n",
    "#          print((r.json()))\n",
    "#          print(\"error occured in the google analytics reporting api data extraction\")"
   ]
  },
  {
   "cell_type": "code",
   "execution_count": null,
   "metadata": {},
   "outputs": [],
   "source": [
    "# viewID='72884975'\n",
    "# dim=['ga:browser','ga:sourceMedium']\n",
    "# met=['ga:users','ga:revenuePerTransaction']\n",
    "# start_date='2012-01-01'\n",
    "# end_date='2019-07-10'\n",
    "# transaction_type='Transaction'\n",
    "# goal_number=''\n",
    "# refresh_token=refresh_token\n",
    "# condition=''\n",
    "\n",
    "# data=google_analytics_reporting_api_data_extraction(viewID,dim,met,start_date,end_date,refresh_token,transaction_type,goal_number,condition)"
   ]
  },
  {
   "cell_type": "code",
   "execution_count": 45,
   "metadata": {},
   "outputs": [],
   "source": [
    "def newton_sqrt(x):\n",
    "    val = x\n",
    "    while True:\n",
    "        last = val\n",
    "        val = (val + x / val) * 0.5\n",
    "        if abs(val - last) < 1e-9:\n",
    "            break\n",
    "    return val\n",
    "\n",
    "from numpy.testing import assert_almost_equal as eq\n",
    "\n",
    "def newton_sqrt2(x, guess = 2):\n",
    "    if eq(newton_sq2(x, guess)**2, x): \n",
    "        return guess\n",
    "    else:\n",
    "        guess = 0.5*(guess+x)\n",
    "        return newton_sqrt2(x, guess)\n",
    "    \n",
    "def lazy_sqrt(x):\n",
    "    return x**0.5\n",
    "\n",
    "def builtin_sqrt(x):\n",
    "    from math import sqrt\n",
    "    return sqrt(x)\n",
    "    \n",
    "def newtons_method(f, df, x0, e):\n",
    "    def dx(f, x):\n",
    "        return abs(0 - f(x))\n",
    "    delta = dx(f, x0)\n",
    "    while delta > e:\n",
    "        x0 = x0 - f(x0)/df(x0)\n",
    "        delta = dx(f, x0)\n",
    "    return x0"
   ]
  },
  {
   "cell_type": "code",
   "execution_count": 50,
   "metadata": {
    "scrolled": true
   },
   "outputs": [
    {
     "name": "stderr",
     "output_type": "stream",
     "text": [
      "E\n",
      "======================================================================\n",
      "ERROR: C:\\Users\\lilyx\\AppData\\Roaming\\jupyter\\runtime\\kernel-e6b60524-ad3b-4cf3-83d6-97fc9e903db5 (unittest.loader._FailedTest)\n",
      "----------------------------------------------------------------------\n",
      "AttributeError: module '__main__' has no attribute 'C:\\Users\\lilyx\\AppData\\Roaming\\jupyter\\runtime\\kernel-e6b60524-ad3b-4cf3-83d6-97fc9e903db5'\n",
      "\n",
      "----------------------------------------------------------------------\n",
      "Ran 1 test in 0.001s\n",
      "\n",
      "FAILED (errors=1)\n"
     ]
    },
    {
     "ename": "SystemExit",
     "evalue": "True",
     "output_type": "error",
     "traceback": [
      "An exception has occurred, use %tb to see the full traceback.\n",
      "\u001b[1;31mSystemExit\u001b[0m\u001b[1;31m:\u001b[0m True\n"
     ]
    },
    {
     "name": "stderr",
     "output_type": "stream",
     "text": [
      "C:\\Users\\lilyx\\Anaconda3\\lib\\site-packages\\IPython\\core\\interactiveshell.py:3304: UserWarning: To exit: use 'exit', 'quit', or Ctrl-D.\n",
      "  warn(\"To exit: use 'exit', 'quit', or Ctrl-D.\", stacklevel=1)\n"
     ]
    }
   ],
   "source": [
    "import unittest\n",
    "# from scratch import *\n",
    "\n",
    "class SqrtTests(unittest.TestCase):\n",
    "    \"\"\" Obligatory docstring\"\"\"\n",
    "    \n",
    "    def test_sqrt9(self):#functions don't have to have an __init__\n",
    "        #it doesn't have any special object, __init__ will always be a blank object\n",
    "        self.assertEqual(newton_sqrt1(9), 3)\n",
    "        \n",
    "    def test_sqrt2(self):\n",
    "        self.assertEqual(newton_sqrt1(2), 1.42421356)\n",
    "\n",
    "if __name__ == '__main__':#if this is being executed from the command line as a standalone script\n",
    "    #this is being executed directly, not imported\n",
    "    unittest.main()"
   ]
  },
  {
   "cell_type": "code",
   "execution_count": null,
   "metadata": {},
   "outputs": [],
   "source": []
  }
 ],
 "metadata": {
  "kernelspec": {
   "display_name": "Python 3",
   "language": "python",
   "name": "python3"
  },
  "language_info": {
   "codemirror_mode": {
    "name": "ipython",
    "version": 3
   },
   "file_extension": ".py",
   "mimetype": "text/x-python",
   "name": "python",
   "nbconvert_exporter": "python",
   "pygments_lexer": "ipython3",
   "version": "3.7.3"
  }
 },
 "nbformat": 4,
 "nbformat_minor": 2
}
